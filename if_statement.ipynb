{
 "cells": [
  {
   "cell_type": "markdown",
   "id": "9662a72a",
   "metadata": {},
   "source": [
    "# **if_statement in python:**"
   ]
  },
  {
   "cell_type": "markdown",
   "id": "0f2b2692",
   "metadata": {},
   "source": [
    "### 1. Introduction to the if_statement:\n",
    "- Decides whether a particular statement or block of statements will be executed or not."
   ]
  },
  {
   "cell_type": "code",
   "execution_count": 1,
   "id": "10f571c5",
   "metadata": {},
   "outputs": [
    {
     "name": "stdout",
     "output_type": "stream",
     "text": [
      "x is less than 50\n"
     ]
    }
   ],
   "source": [
    "x = 10\n",
    "if x < 50:\n",
    "    print(\"x is less than 50\")"
   ]
  },
  {
   "cell_type": "markdown",
   "id": "942507b6",
   "metadata": {},
   "source": [
    "### 2. The statement outside if block:\n",
    "- The statement outside if block will be executed regardless of whether the condition in the if statement is satisfied or not."
   ]
  },
  {
   "cell_type": "code",
   "execution_count": 2,
   "id": "37c9844e",
   "metadata": {},
   "outputs": [
    {
     "name": "stdout",
     "output_type": "stream",
     "text": [
      "True\n",
      "End of the program\n"
     ]
    }
   ],
   "source": [
    "name = 'eman'\n",
    "if name == 'eman':\n",
    "    print(True)\n",
    "print(\"End of the program\")    "
   ]
  },
  {
   "cell_type": "markdown",
   "id": "1b947ec1",
   "metadata": {},
   "source": [
    "### 3. The short hand if:\n",
    "- When only one statement to execute, put that in the same line as the if statement."
   ]
  },
  {
   "cell_type": "code",
   "execution_count": 3,
   "id": "111ad76f",
   "metadata": {},
   "outputs": [
    {
     "name": "stdout",
     "output_type": "stream",
     "text": [
      "True\n"
     ]
    }
   ],
   "source": [
    "x = 15\n",
    "if x < 50: print(True)"
   ]
  },
  {
   "cell_type": "markdown",
   "id": "86dc40da",
   "metadata": {},
   "source": [
    "### 4. Nested if statement:\n",
    "The if statement inside another if statement is called nested if statement."
   ]
  },
  {
   "cell_type": "code",
   "execution_count": 4,
   "id": "90dbb296",
   "metadata": {},
   "outputs": [
    {
     "name": "stdout",
     "output_type": "stream",
     "text": [
      "x is equal to 10\n"
     ]
    }
   ],
   "source": [
    "x = 10\n",
    "if x < 50:\n",
    "    if x == 10:\n",
    "        print(\"x is equal to 10\")"
   ]
  },
  {
   "cell_type": "code",
   "execution_count": null,
   "id": "043272b9",
   "metadata": {},
   "outputs": [],
   "source": []
  }
 ],
 "metadata": {
  "kernelspec": {
   "display_name": "Python 3",
   "language": "python",
   "name": "python3"
  },
  "language_info": {
   "codemirror_mode": {
    "name": "ipython",
    "version": 3
   },
   "file_extension": ".py",
   "mimetype": "text/x-python",
   "name": "python",
   "nbconvert_exporter": "python",
   "pygments_lexer": "ipython3",
   "version": "3.12.10"
  }
 },
 "nbformat": 4,
 "nbformat_minor": 5
}
