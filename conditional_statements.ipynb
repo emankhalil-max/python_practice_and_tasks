{
 "cells": [
  {
   "cell_type": "markdown",
   "id": "9662a72a",
   "metadata": {},
   "source": [
    "# **if_statement in python:**"
   ]
  },
  {
   "cell_type": "markdown",
   "id": "0f2b2692",
   "metadata": {},
   "source": [
    "### 1. Introduction to the if_statement:\n",
    "- Decides whether a particular statement or block of statements will be executed or not."
   ]
  },
  {
   "cell_type": "code",
   "execution_count": 1,
   "id": "10f571c5",
   "metadata": {},
   "outputs": [
    {
     "name": "stdout",
     "output_type": "stream",
     "text": [
      "x is less than 50\n"
     ]
    }
   ],
   "source": [
    "x = 10\n",
    "if x < 50:\n",
    "    print(\"x is less than 50\")"
   ]
  },
  {
   "cell_type": "markdown",
   "id": "942507b6",
   "metadata": {},
   "source": [
    "### 2. The statement outside if block:\n",
    "- The statement outside if block will be executed regardless of whether the condition in the if statement is satisfied or not."
   ]
  },
  {
   "cell_type": "code",
   "execution_count": 2,
   "id": "37c9844e",
   "metadata": {},
   "outputs": [
    {
     "name": "stdout",
     "output_type": "stream",
     "text": [
      "True\n",
      "End of the program\n"
     ]
    }
   ],
   "source": [
    "name = 'eman'\n",
    "if name == 'eman':\n",
    "    print(True)\n",
    "print(\"End of the program\")    "
   ]
  },
  {
   "cell_type": "markdown",
   "id": "1b947ec1",
   "metadata": {},
   "source": [
    "### 3. The short hand if:\n",
    "- When only one statement to execute, put that in the same line as the if statement."
   ]
  },
  {
   "cell_type": "code",
   "execution_count": 3,
   "id": "111ad76f",
   "metadata": {},
   "outputs": [
    {
     "name": "stdout",
     "output_type": "stream",
     "text": [
      "True\n"
     ]
    }
   ],
   "source": [
    "x = 15\n",
    "if x < 50: print(True)"
   ]
  },
  {
   "cell_type": "markdown",
   "id": "86dc40da",
   "metadata": {},
   "source": [
    "### 4. Nested if statement:\n",
    "The if statement inside another if statement is called nested if statement."
   ]
  },
  {
   "cell_type": "code",
   "execution_count": 1,
   "id": "90dbb296",
   "metadata": {},
   "outputs": [
    {
     "name": "stdout",
     "output_type": "stream",
     "text": [
      "x is equal to 10\n",
      "x is less than 50\n",
      "End of the program\n"
     ]
    }
   ],
   "source": [
    "x = 10\n",
    "if x < 50:\n",
    "    if x == 10:\n",
    "        print(\"x is equal to 10\")\n",
    "    print(\"x is less than 50\")\n",
    "print(\"End of the program\")        "
   ]
  },
  {
   "cell_type": "markdown",
   "id": "68f61eee",
   "metadata": {},
   "source": [
    "# **if_else statement:**"
   ]
  },
  {
   "cell_type": "markdown",
   "id": "4b6e6f80",
   "metadata": {},
   "source": [
    "### 1. Introduction:\n",
    "- The else statement can be used with if statement to execute a block of code when the if condition is not satisfied."
   ]
  },
  {
   "cell_type": "code",
   "execution_count": 3,
   "id": "043272b9",
   "metadata": {},
   "outputs": [
    {
     "name": "stdout",
     "output_type": "stream",
     "text": [
      "You can vote\n",
      "Done!\n"
     ]
    }
   ],
   "source": [
    "age = 20 \n",
    "if age < 18:\n",
    "    print(\"You can't vote!\")\n",
    "else:\n",
    "    print(\"You can vote\")  \n",
    "print(\"Done!\")      "
   ]
  },
  {
   "cell_type": "markdown",
   "id": "109c4d0d",
   "metadata": {},
   "source": [
    "### 2. The short hand if_else:\n",
    "- Uses when only one statement for if and one statement for else needs to be executed."
   ]
  },
  {
   "cell_type": "code",
   "execution_count": 1,
   "id": "2500046d",
   "metadata": {},
   "outputs": [
    {
     "name": "stdout",
     "output_type": "stream",
     "text": [
      "You can vote!\n",
      "Done\n"
     ]
    }
   ],
   "source": [
    "age = 20\n",
    "print(\"You can't vote!\") if age < 18 else print(\"You can vote!\")\n",
    "print(\"Done\")"
   ]
  },
  {
   "cell_type": "markdown",
   "id": "b263b502",
   "metadata": {},
   "source": [
    "# **The if_elif_else statement in python:**"
   ]
  },
  {
   "cell_type": "markdown",
   "id": "29f0ed22",
   "metadata": {},
   "source": [
    "### 1. Introduction:\n",
    "- The if_else statement is used when decision has to be made among two alternatives.\n",
    "- The if_elif_else statement is used when decision has to be made between more than two alternatives."
   ]
  },
  {
   "cell_type": "code",
   "execution_count": 3,
   "id": "89ed6dac",
   "metadata": {},
   "outputs": [
    {
     "name": "stdout",
     "output_type": "stream",
     "text": [
      "x is 5\n",
      "Done!\n"
     ]
    }
   ],
   "source": [
    "x = 5\n",
    "if x == 5:\n",
    "    print(\"x is 5\")\n",
    "elif x< 5:\n",
    "    print(\"x is less than 5\")\n",
    "else:\n",
    "    print(\"x is greater tha 5\")       \n",
    "print(\"Done!\")     "
   ]
  },
  {
   "cell_type": "markdown",
   "id": "f102f633",
   "metadata": {},
   "source": [
    "### 2. Program:Divisibility Test"
   ]
  },
  {
   "cell_type": "markdown",
   "id": "67bfd9ab",
   "metadata": {},
   "source": [
    "> WAP to test whether a number is divisible by 2 or 3."
   ]
  },
  {
   "cell_type": "code",
   "execution_count": 5,
   "id": "2f637cb0",
   "metadata": {},
   "outputs": [
    {
     "name": "stdout",
     "output_type": "stream",
     "text": [
      "Number is divisible by 3!\n",
      "Done!\n"
     ]
    }
   ],
   "source": [
    "n = 3\n",
    "if n % 2 == 0:\n",
    "    print(\"Number is divisible by 2!\")\n",
    "elif n % 3 == 0:\n",
    "    print(\"Number is divisible by 3!\")\n",
    "else:\n",
    "    print(\"Not divisible by any of the numbers!\")\n",
    "print(\"Done!\")            "
   ]
  },
  {
   "cell_type": "markdown",
   "id": "28ab2f45",
   "metadata": {},
   "source": [
    "# **Logical And operator:**"
   ]
  },
  {
   "cell_type": "markdown",
   "id": "f44fbc80",
   "metadata": {},
   "source": [
    "### 1. Use of Logical And with if statement:\n",
    "- Used to combine multiple conditions into a single expression.\n",
    "- Helps in avoiding nested if statements."
   ]
  },
  {
   "cell_type": "code",
   "execution_count": 6,
   "id": "824ebb41",
   "metadata": {},
   "outputs": [
    {
     "name": "stdout",
     "output_type": "stream",
     "text": [
      "You are eligible!\n",
      "Done!\n"
     ]
    }
   ],
   "source": [
    "age = 20 \n",
    "nationality = 'Pakistani'\n",
    "if age > 18 and age < 30 and nationality == 'Pakistani':\n",
    "    print(\"You are eligible!\")\n",
    "print(\"Done!\")    "
   ]
  },
  {
   "cell_type": "markdown",
   "id": "b847e92e",
   "metadata": {},
   "source": [
    "### 2. Logical And with if-else statement:"
   ]
  },
  {
   "cell_type": "code",
   "execution_count": 7,
   "id": "11ecfb29",
   "metadata": {},
   "outputs": [
    {
     "name": "stdout",
     "output_type": "stream",
     "text": [
      "You are eligible!\n",
      "Done!\n"
     ]
    }
   ],
   "source": [
    "age = 20 \n",
    "nationality = 'Pakistani'\n",
    "if age > 18 and age < 30 and nationality == 'Pakistani':\n",
    "    print(\"You are eligible!\")\n",
    "else:\n",
    "    print(\"You're not eligible!\")    \n",
    "print(\"Done!\")"
   ]
  },
  {
   "cell_type": "markdown",
   "id": "5a8af76a",
   "metadata": {},
   "source": [
    "### 3. Logical And with if_elif_else statement:"
   ]
  },
  {
   "cell_type": "code",
   "execution_count": 9,
   "id": "a3597534",
   "metadata": {},
   "outputs": [
    {
     "name": "stdout",
     "output_type": "stream",
     "text": [
      "You're eligible for exam. Exam fee is $200 \n",
      "Done!\n"
     ]
    }
   ],
   "source": [
    "age = 20 \n",
    "nationality = 'American'\n",
    "if age > 18 and age < 30 and nationality == 'Pakistani':\n",
    "    print(\"You are eligible for the exam. Exam fee is Rs.15000!\")\n",
    "elif age > 18 and age < 30 and nationality == 'American': \n",
    "    print(\"You're eligible for exam. Exam fee is $200 \")\n",
    "else:\n",
    "    print(\"You're not eligible!\")    \n",
    "print(\"Done!\")"
   ]
  },
  {
   "cell_type": "markdown",
   "id": "0b2f4509",
   "metadata": {},
   "source": [
    "# **Logical OR operator:**"
   ]
  },
  {
   "cell_type": "markdown",
   "id": "e72d4f30",
   "metadata": {},
   "source": [
    "### 1. Logical OR with if statement:\n",
    "- If any of the conditions are satisfied, then the statements inside the if block will be executed."
   ]
  },
  {
   "cell_type": "code",
   "execution_count": 10,
   "id": "356684c0",
   "metadata": {},
   "outputs": [
    {
     "name": "stdout",
     "output_type": "stream",
     "text": [
      "It's a weekend!\n",
      "Done!\n"
     ]
    }
   ],
   "source": [
    "today = 'sunday'\n",
    "if today == 'saturday' or today == 'sunday':\n",
    "    print(\"It's a weekend!\")\n",
    "print(\"Done!\")    \n",
    "          "
   ]
  },
  {
   "cell_type": "markdown",
   "id": "b7059233",
   "metadata": {},
   "source": [
    "### 2. Logical OR with if_else statement:"
   ]
  },
  {
   "cell_type": "code",
   "execution_count": 11,
   "id": "3b0ce9f4",
   "metadata": {},
   "outputs": [
    {
     "name": "stdout",
     "output_type": "stream",
     "text": [
      "It's a weekday!\n",
      "Done!\n"
     ]
    }
   ],
   "source": [
    "today = 'Monday'\n",
    "if today == 'saturday' or today == 'sunday':\n",
    "    print(\"It's a weekend!\")\n",
    "else:\n",
    "    print(\"It's a weekday!\")    \n",
    "print(\"Done!\") "
   ]
  },
  {
   "cell_type": "markdown",
   "id": "78698f63",
   "metadata": {},
   "source": [
    "### 3. Logical OR with if_elif_else statement:"
   ]
  },
  {
   "cell_type": "code",
   "execution_count": 12,
   "id": "d002b3b4",
   "metadata": {},
   "outputs": [
    {
     "name": "stdout",
     "output_type": "stream",
     "text": [
      "Work 2 hours extra.\n",
      "Done!\n"
     ]
    }
   ],
   "source": [
    "today = 'Monday'\n",
    "if today == 'saturday' or today == 'sunday':\n",
    "    print(\"It's a holiday!\")\n",
    "elif today == 'Monday' or today == 'Friday':  \n",
    "    print(\"Work 2 hours extra.\") \n",
    "else:\n",
    "    print(\"Normal work hours.\")    \n",
    "print(\"Done!\") "
   ]
  },
  {
   "cell_type": "markdown",
   "id": "6b232d60",
   "metadata": {},
   "source": [
    "# **Logical Not operator:**"
   ]
  },
  {
   "cell_type": "markdown",
   "id": "43d8a746",
   "metadata": {},
   "source": [
    "### 1. Logical Not with a Boolean value:\n",
    "- If the Boolean value is True, then the Not operator returns False."
   ]
  },
  {
   "cell_type": "code",
   "execution_count": null,
   "id": "a89b87d9",
   "metadata": {},
   "outputs": [],
   "source": [
    "x = False\n",
    "if not x:\n",
    "    print(\"x is False\")    \n"
   ]
  },
  {
   "cell_type": "markdown",
   "id": "e725fe8f",
   "metadata": {},
   "source": [
    "### Logical Not with a string:"
   ]
  },
  {
   "cell_type": "code",
   "execution_count": 16,
   "id": "158a64b4",
   "metadata": {},
   "outputs": [
    {
     "name": "stdout",
     "output_type": "stream",
     "text": [
      "Your name is Eman.\n",
      "Done!\n"
     ]
    }
   ],
   "source": [
    "name = 'Eman'\n",
    "if not name:\n",
    "    print(\"No name.\")\n",
    "else:\n",
    "    print(f\"Your name is {name}.\") \n",
    "print(\"Done!\")       "
   ]
  },
  {
   "cell_type": "markdown",
   "id": "b1fda791",
   "metadata": {},
   "source": [
    "Logical Not with a List, Dictionary, or Tuple:"
   ]
  },
  {
   "cell_type": "code",
   "execution_count": 17,
   "id": "1e3cd170",
   "metadata": {},
   "outputs": [
    {
     "name": "stdout",
     "output_type": "stream",
     "text": [
      "There are a total of 3 names.\n",
      "Done!\n"
     ]
    }
   ],
   "source": [
    "names = ['Eman', 'Omar', 'Abdullah']\n",
    "if not names:\n",
    "    print(\"No name.\")\n",
    "else:\n",
    "    print(f\"There are a total of {len(names)} names.\")\n",
    "print(\"Done!\")        "
   ]
  },
  {
   "cell_type": "code",
   "execution_count": null,
   "id": "8676843c",
   "metadata": {},
   "outputs": [],
   "source": []
  }
 ],
 "metadata": {
  "kernelspec": {
   "display_name": "Python 3",
   "language": "python",
   "name": "python3"
  },
  "language_info": {
   "codemirror_mode": {
    "name": "ipython",
    "version": 3
   },
   "file_extension": ".py",
   "mimetype": "text/x-python",
   "name": "python",
   "nbconvert_exporter": "python",
   "pygments_lexer": "ipython3",
   "version": "3.12.10"
  }
 },
 "nbformat": 4,
 "nbformat_minor": 5
}
