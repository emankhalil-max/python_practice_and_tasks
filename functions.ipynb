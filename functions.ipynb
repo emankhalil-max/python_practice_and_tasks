{
 "cells": [
  {
   "cell_type": "markdown",
   "id": "c7d187f7",
   "metadata": {},
   "source": [
    "# **Functions in python**"
   ]
  },
  {
   "cell_type": "markdown",
   "id": "11e0dd45",
   "metadata": {},
   "source": [
    "- Functions are used to avoid redundancy in the code.\n",
    "- A block of reusable code"
   ]
  },
  {
   "cell_type": "code",
   "execution_count": 2,
   "id": "2414c321",
   "metadata": {},
   "outputs": [
    {
     "name": "stdout",
     "output_type": "stream",
     "text": [
      "Name of the student is eman.\n",
      "Sex of the student is female.\n",
      "ID of the student is 12.\n",
      "\n",
      "Name of the student is Abdullah.\n",
      "Sex of the student is male.\n",
      "ID of the student is 4.\n",
      "\n",
      "Name of the student is Omar.\n",
      "Sex of the student is male.\n",
      "ID of the student is 3.\n",
      "\n"
     ]
    }
   ],
   "source": [
    "def students_bio(name, sex, id):\n",
    "    print(f\"Name of the student is {name}.\")\n",
    "    print(f\"Sex of the student is {sex}.\")\n",
    "    print(f\"ID of the student is {id}.\")\n",
    "    print()\n",
    "\n",
    "students_bio('eman','female',12)\n",
    "students_bio('Abdullah','male',4)\n",
    "students_bio('Omar','male',3)\n",
    "\n"
   ]
  },
  {
   "cell_type": "code",
   "execution_count": 3,
   "id": "3ad14ffd",
   "metadata": {},
   "outputs": [
    {
     "name": "stdout",
     "output_type": "stream",
     "text": [
      "Happy Birthday to saniya.\n",
      "You are 39 years old!\n",
      "Happy Birthday to you!\n",
      "\n",
      "Happy Birthday to eman.\n",
      "You are 22 years old!\n",
      "Happy Birthday to you!\n",
      "\n",
      "Happy Birthday to abdullah.\n",
      "You are 4 years old!\n",
      "Happy Birthday to you!\n",
      "\n"
     ]
    }
   ],
   "source": [
    "def happy_birthday(name,age):\n",
    "    print(f\"Happy Birthday to {name}.\")\n",
    "    print(f\"You are {age} years old!\")\n",
    "    print(\"Happy Birthday to you!\")\n",
    "    print()\n",
    "\n",
    "happy_birthday(\"saniya\",39)\n",
    "happy_birthday(\"eman\",22)  \n",
    "happy_birthday(\"abdullah\",4) "
   ]
  },
  {
   "cell_type": "markdown",
   "id": "bece1636",
   "metadata": {},
   "source": [
    "### 1. Default arguments in functions:\n",
    "- A default value for certain parameters.\n",
    "- Default is used when that argument is omitted and make functions more flexible, reduces."
   ]
  },
  {
   "cell_type": "code",
   "execution_count": 1,
   "id": "0303eb7d",
   "metadata": {},
   "outputs": [
    {
     "name": "stdout",
     "output_type": "stream",
     "text": [
      "420.0\n"
     ]
    }
   ],
   "source": [
    "def net_price(list_price, discount=0, tax=0.05):\n",
    "    return list_price * (1-discount) * (1 + tax)\n",
    "\n",
    "print(net_price(400))"
   ]
  },
  {
   "cell_type": "code",
   "execution_count": null,
   "id": "b83e1324",
   "metadata": {},
   "outputs": [],
   "source": [
    "import time\n",
    "\n",
    "def count(start, end):\n",
    "    "
   ]
  }
 ],
 "metadata": {
  "kernelspec": {
   "display_name": "Python 3",
   "language": "python",
   "name": "python3"
  },
  "language_info": {
   "codemirror_mode": {
    "name": "ipython",
    "version": 3
   },
   "file_extension": ".py",
   "mimetype": "text/x-python",
   "name": "python",
   "nbconvert_exporter": "python",
   "pygments_lexer": "ipython3",
   "version": "3.12.10"
  }
 },
 "nbformat": 4,
 "nbformat_minor": 5
}
