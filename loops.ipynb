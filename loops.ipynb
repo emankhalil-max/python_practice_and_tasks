{
 "cells": [
  {
   "cell_type": "markdown",
   "id": "dd7e7b07",
   "metadata": {},
   "source": [
    "# **1. While loop in python:**"
   ]
  },
  {
   "cell_type": "markdown",
   "id": "c9bd76be",
   "metadata": {},
   "source": [
    "### 1.1. Updating a Variable:"
   ]
  },
  {
   "cell_type": "code",
   "execution_count": null,
   "id": "52fe2e82",
   "metadata": {},
   "outputs": [],
   "source": [
    "# variable cannot be updated directly, you first need to initialize variable before updating it\n",
    "x = 0"
   ]
  },
  {
   "cell_type": "markdown",
   "id": "85545095",
   "metadata": {},
   "source": [
    "### 1.2. Basics of while loop:\n",
    "- Repeats a piece of code until the condition becomes false."
   ]
  },
  {
   "cell_type": "code",
   "execution_count": 1,
   "id": "5b9dd8b9",
   "metadata": {},
   "outputs": [
    {
     "name": "stdout",
     "output_type": "stream",
     "text": [
      "1\n",
      "2\n",
      "3\n"
     ]
    }
   ],
   "source": [
    "n =1\n",
    "while n <= 3:\n",
    "    print(n)\n",
    "    n += 1"
   ]
  },
  {
   "cell_type": "markdown",
   "id": "aa62009c",
   "metadata": {},
   "source": [
    "### 1.3. Infinite While loop:\n",
    "> A while loop can run infinitely if the condition never becomes false."
   ]
  },
  {
   "cell_type": "code",
   "execution_count": null,
   "id": "0021a3a9",
   "metadata": {},
   "outputs": [],
   "source": [
    "n = 100\n",
    "while True:\n",
    "    print(n)\n",
    "    n -= 1"
   ]
  },
  {
   "cell_type": "markdown",
   "id": "accd93f8",
   "metadata": {},
   "source": [
    "> Breaking the infinite while loop"
   ]
  },
  {
   "cell_type": "code",
   "execution_count": 4,
   "id": "54e4ae5e",
   "metadata": {},
   "outputs": [
    {
     "name": "stdout",
     "output_type": "stream",
     "text": [
      "45\n",
      "hyfeufewk\n",
      "gg4r3\n",
      "ee31212\n"
     ]
    }
   ],
   "source": [
    "while True:\n",
    "    line = input(\"Enter the line (type 'q' to quit): \")\n",
    "    if line == 'q':\n",
    "        break\n",
    "    print(line)\n",
    "    "
   ]
  },
  {
   "cell_type": "markdown",
   "id": "39508f7c",
   "metadata": {},
   "source": [
    "# **2. Conditionals and loops:**"
   ]
  },
  {
   "cell_type": "markdown",
   "id": "2e9c28b8",
   "metadata": {},
   "source": [
    "### 2.1. Program: Sum of First n Natural Numbers."
   ]
  },
  {
   "cell_type": "code",
   "execution_count": 2,
   "id": "9b8e5962",
   "metadata": {},
   "outputs": [
    {
     "name": "stdout",
     "output_type": "stream",
     "text": [
      "15\n"
     ]
    }
   ],
   "source": [
    "n = int(input(\"Enter the value of n: \"))\n",
    "sum = 0\n",
    "\n",
    "while n > 0:\n",
    "    sum = sum+ n\n",
    "    n -= 1\n",
    "print(sum)\n"
   ]
  },
  {
   "cell_type": "code",
   "execution_count": 1,
   "id": "def62ab5",
   "metadata": {},
   "outputs": [
    {
     "name": "stdout",
     "output_type": "stream",
     "text": [
      "Incorrect password!\n",
      "Access granted!\n"
     ]
    }
   ],
   "source": [
    "correct_password = \"1234\"\n",
    "\n",
    "while True:\n",
    "    password = input(\"Enter your password: \")\n",
    "    if password == correct_password:\n",
    "        print(\"Access granted!\")\n",
    "        break\n",
    "    else:\n",
    "        print(\"Incorrect password!\")"
   ]
  },
  {
   "cell_type": "code",
   "execution_count": 3,
   "id": "59a00af7",
   "metadata": {},
   "outputs": [
    {
     "name": "stdout",
     "output_type": "stream",
     "text": [
      "5\n",
      "4\n",
      "3\n",
      "2\n",
      "1\n",
      "Time's up!\n"
     ]
    }
   ],
   "source": [
    "count = 5\n",
    "\n",
    "while count > 0:\n",
    "    print(count)\n",
    "    count -= 1\n",
    "print(\"Time's up!\")    "
   ]
  },
  {
   "cell_type": "code",
   "execution_count": 5,
   "id": "8468bc8d",
   "metadata": {},
   "outputs": [
    {
     "name": "stdout",
     "output_type": "stream",
     "text": [
      "You entered 4 numbers\n"
     ]
    }
   ],
   "source": [
    "count = 0\n",
    "while True:\n",
    "    num = int(input(\"Enter the number (0 to quit): \"))\n",
    "    if num == 0:\n",
    "        break\n",
    "    count += 1\n",
    "print(\"You entered\", count, \"numbers\")    "
   ]
  },
  {
   "cell_type": "code",
   "execution_count": 4,
   "id": "3c74ac55",
   "metadata": {},
   "outputs": [
    {
     "name": "stdout",
     "output_type": "stream",
     "text": [
      "Total sum: 6\n"
     ]
    }
   ],
   "source": [
    "total = 0\n",
    "while True:\n",
    "    num = int(input(\"Enter the num (0 to quit):\"))\n",
    "    if num == 0:\n",
    "        break\n",
    "    total += 1\n",
    "print(\"Total sum:\", total)    "
   ]
  },
  {
   "cell_type": "code",
   "execution_count": 6,
   "id": "175c10b8",
   "metadata": {},
   "outputs": [
    {
     "name": "stdout",
     "output_type": "stream",
     "text": [
      "Maximum number entered: 4\n"
     ]
    }
   ],
   "source": [
    "max_num = None\n",
    "\n",
    "while True:\n",
    "    num = int(input(\"Enter the number (0 to quit):\"))\n",
    "    if num == 0:\n",
    "        break\n",
    "    if max_num is None or num > max_num:\n",
    "        max_num = num\n",
    "print(\"Maximum number entered:\", max_num)        "
   ]
  },
  {
   "cell_type": "code",
   "execution_count": 9,
   "id": "c11092f3",
   "metadata": {},
   "outputs": [
    {
     "name": "stdout",
     "output_type": "stream",
     "text": [
      "Average number is: 6.0\n"
     ]
    }
   ],
   "source": [
    "total = 0\n",
    "count = 0\n",
    "while True:\n",
    "    num = int(input(\"Enter the number (0 to quit):\"))\n",
    "    if num == 0:\n",
    "        break\n",
    "    total += num\n",
    "    count += 1\n",
    "if count > 0:\n",
    "        print(\"Average number is:\", total/count)\n",
    "else:\n",
    "     print(\"No numbers entered.\")        "
   ]
  },
  {
   "cell_type": "code",
   "execution_count": 10,
   "id": "b6cf96f8",
   "metadata": {},
   "outputs": [
    {
     "name": "stdout",
     "output_type": "stream",
     "text": [
      "Even numbers:  3\n",
      "Odd numbers: 4\n"
     ]
    }
   ],
   "source": [
    "even = 0\n",
    "odd = 0\n",
    "\n",
    "while True:\n",
    "    num = int(input(\"Enter the number (0 to stop): \"))\n",
    "    if num == 0:\n",
    "        break\n",
    "    if num % 2 == 0:\n",
    "        even += 1\n",
    "    else:\n",
    "        odd += 1\n",
    "print(\"Even numbers: \", even)\n",
    "print(\"Odd numbers:\", odd)            "
   ]
  },
  {
   "cell_type": "markdown",
   "id": "56ddfa0a",
   "metadata": {},
   "source": [
    "# **3. While loop with esle:**"
   ]
  },
  {
   "cell_type": "markdown",
   "id": "9ab972d6",
   "metadata": {},
   "source": [
    "## 3.1. Introduction:\n",
    "> When the while condition becomes false and the loop runs normally, then the else block will be executed."
   ]
  },
  {
   "cell_type": "markdown",
   "id": "6ff537f0",
   "metadata": {},
   "source": [
    "## 3.2. Use of while loop with else:"
   ]
  },
  {
   "cell_type": "markdown",
   "id": "7f101094",
   "metadata": {},
   "source": [
    "> Problem statememt: Let's consider a list of fruits that includes four types of fruits: apple, banana, mango, and strawberry. Write a program to determine whether the fruit orange is present in the list."
   ]
  },
  {
   "cell_type": "code",
   "execution_count": 6,
   "id": "76eeaa99",
   "metadata": {},
   "outputs": [
    {
     "name": "stdout",
     "output_type": "stream",
     "text": [
      "Orange is not available!\n"
     ]
    }
   ],
   "source": [
    "fruits = ['apple','banana','mango','strawberry']\n",
    "fruits_len = len(fruits)\n",
    "index = 0\n",
    "\n",
    "while index < fruits_len:\n",
    "    if fruits[index] == 'orange':\n",
    "        print(\"Orange is available!\")\n",
    "        break \n",
    "    index += 1\n",
    "else:\n",
    "    print(\"Orange is not available!\")          "
   ]
  },
  {
   "cell_type": "markdown",
   "id": "f9211b85",
   "metadata": {},
   "source": [
    "## **4. break and continue statemnets:**"
   ]
  },
  {
   "cell_type": "markdown",
   "id": "584d35a9",
   "metadata": {},
   "source": [
    "## 4.1. The break statement:"
   ]
  },
  {
   "cell_type": "markdown",
   "id": "fab3866b",
   "metadata": {},
   "source": [
    "> Used to terminate the running loop:"
   ]
  },
  {
   "cell_type": "code",
   "execution_count": 8,
   "id": "9c5a0dc8",
   "metadata": {},
   "outputs": [
    {
     "name": "stdout",
     "output_type": "stream",
     "text": [
      "0 1 2 3 4 5 6 7 8 9 10 11 12 13 14 15 16 17 18 19 20 21 22 23 24 25 26 27 28 29 30 31 32 33 34 35 36 37 38 39 40 41 42 43 44 45 46 47 48 49 50 "
     ]
    }
   ],
   "source": [
    "numbers = list(range(0,100))\n",
    "\n",
    "for number in numbers:\n",
    "    if number > 50:\n",
    "        break\n",
    "    print(number, end=' ')"
   ]
  },
  {
   "cell_type": "code",
   "execution_count": null,
   "id": "020fa9ac",
   "metadata": {},
   "outputs": [
    {
     "name": "stdout",
     "output_type": "stream",
     "text": [
      "51\n",
      "51\n",
      "51\n",
      "51\n",
      "51\n",
      "51\n"
     ]
    }
   ],
   "source": [
    "while True:\n",
    "    line = input(\"Enter the line (q to quit):\")\n",
    "    if number == 'q':\n",
    "        break\n",
    "    print(number)\n"
   ]
  },
  {
   "cell_type": "markdown",
   "id": "ea269769",
   "metadata": {},
   "source": [
    "## 4.2. The continue statement:\n",
    "> Used to skip the current iteration of the loop."
   ]
  },
  {
   "cell_type": "code",
   "execution_count": 1,
   "id": "ec7f18e5",
   "metadata": {},
   "outputs": [
    {
     "name": "stdout",
     "output_type": "stream",
     "text": [
      "0\n",
      "1\n",
      "3\n",
      "5\n",
      "6\n",
      "7\n",
      "8\n",
      "9\n",
      "10\n",
      "11\n",
      "12\n",
      "13\n",
      "14\n",
      "15\n",
      "16\n",
      "17\n",
      "18\n",
      "19\n"
     ]
    }
   ],
   "source": [
    "for i in range(0,20):\n",
    "    if i == 2 or i == 4:\n",
    "        continue\n",
    "    print(i)"
   ]
  },
  {
   "cell_type": "code",
   "execution_count": 2,
   "id": "bc328a41",
   "metadata": {},
   "outputs": [
    {
     "name": "stdout",
     "output_type": "stream",
     "text": [
      "2\n",
      "4\n",
      "6\n",
      "8\n",
      "10\n"
     ]
    }
   ],
   "source": [
    "n = 0 \n",
    "while n <= 10:\n",
    "    n += 1\n",
    "    if n % 2 != 0:\n",
    "        continue\n",
    "    print(n)"
   ]
  },
  {
   "cell_type": "markdown",
   "id": "bda9eccb",
   "metadata": {},
   "source": [
    "# **5. Nested while loop:**"
   ]
  },
  {
   "cell_type": "code",
   "execution_count": null,
   "id": "c065d9b1",
   "metadata": {},
   "outputs": [],
   "source": [
    "list_1 = [1,2,3]\n",
    "list_2 = [4,5,6]\n",
    "i = 0\n",
    "j = 0\n",
    "\n",
    "while i < len(list_1):\n",
    "    while j < len(list_2):\n",
    "        j += 0\n",
    "        "
   ]
  }
 ],
 "metadata": {
  "kernelspec": {
   "display_name": "Python 3",
   "language": "python",
   "name": "python3"
  },
  "language_info": {
   "codemirror_mode": {
    "name": "ipython",
    "version": 3
   },
   "file_extension": ".py",
   "mimetype": "text/x-python",
   "name": "python",
   "nbconvert_exporter": "python",
   "pygments_lexer": "ipython3",
   "version": "3.12.10"
  }
 },
 "nbformat": 4,
 "nbformat_minor": 5
}
