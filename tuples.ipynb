{
 "cells": [
  {
   "cell_type": "markdown",
   "id": "21a89ea6",
   "metadata": {},
   "source": [
    "# **Tuples in python:**"
   ]
  },
  {
   "cell_type": "markdown",
   "id": "36b7b6c3",
   "metadata": {},
   "source": [
    "### **1. Introduction to tuples:**\n",
    "- A collection of items which are indexed, ordered and immutable.\n",
    "- Can have duplicates."
   ]
  },
  {
   "cell_type": "code",
   "execution_count": 2,
   "id": "1d97877a",
   "metadata": {},
   "outputs": [
    {
     "data": {
      "text/plain": [
       "'Audi'"
      ]
     },
     "execution_count": 2,
     "metadata": {},
     "output_type": "execute_result"
    }
   ],
   "source": [
    "cars = ('Audi', 'Mercedes', 'BMW', 'Mercedes')\n",
    "cars[0]"
   ]
  },
  {
   "cell_type": "markdown",
   "id": "dc26b3ff",
   "metadata": {},
   "source": [
    "### 1.1. Tuple with one item:"
   ]
  },
  {
   "cell_type": "code",
   "execution_count": 4,
   "id": "d839609a",
   "metadata": {},
   "outputs": [
    {
     "data": {
      "text/plain": [
       "('Audi',)"
      ]
     },
     "execution_count": 4,
     "metadata": {},
     "output_type": "execute_result"
    }
   ],
   "source": [
    "cars = ('Audi',)\n",
    "cars"
   ]
  },
  {
   "cell_type": "markdown",
   "id": "efca87b5",
   "metadata": {},
   "source": [
    "### 1.2. Length of a tuple:\n",
    "- Can be determined using the len() function."
   ]
  },
  {
   "cell_type": "code",
   "execution_count": 5,
   "id": "ae17584f",
   "metadata": {},
   "outputs": [
    {
     "data": {
      "text/plain": [
       "3"
      ]
     },
     "execution_count": 5,
     "metadata": {},
     "output_type": "execute_result"
    }
   ],
   "source": [
    "cars = ('Audi', 'BMW', 'Mercedes')\n",
    "length = len(cars)\n",
    "length"
   ]
  },
  {
   "cell_type": "markdown",
   "id": "ef0de4b5",
   "metadata": {},
   "source": [
    "### 1.3. The tuple constructor:\n",
    "- Alternative way to create a tuple."
   ]
  },
  {
   "cell_type": "code",
   "execution_count": 6,
   "id": "dc07df90",
   "metadata": {},
   "outputs": [
    {
     "data": {
      "text/plain": [
       "('Audi', 'BMW', 'Mercedes')"
      ]
     },
     "execution_count": 6,
     "metadata": {},
     "output_type": "execute_result"
    }
   ],
   "source": [
    "cars = tuple(('Audi', 'BMW', 'Mercedes'))\n",
    "cars"
   ]
  },
  {
   "cell_type": "markdown",
   "id": "438580ff",
   "metadata": {},
   "source": [
    "### **2. Accessing tuple items:**"
   ]
  },
  {
   "cell_type": "markdown",
   "id": "14fe4a0e",
   "metadata": {},
   "source": [
    "### 2.1. Accessing tuple items through positive indexing:\n",
    "- Each item of a tuple can be accessed through its index.\n",
    "- Trying to access item out of the index range will result an indexerror.\n",
    "- Providing float or any other data type as index will result in TypeError."
   ]
  },
  {
   "cell_type": "code",
   "execution_count": 7,
   "id": "8fd7413c",
   "metadata": {},
   "outputs": [
    {
     "data": {
      "text/plain": [
       "'Mercedes'"
      ]
     },
     "execution_count": 7,
     "metadata": {},
     "output_type": "execute_result"
    }
   ],
   "source": [
    "cars[2]"
   ]
  },
  {
   "cell_type": "markdown",
   "id": "cfa040fb",
   "metadata": {},
   "source": [
    "### 2.2. Accessing tuple items through negative indexing.\n",
    "- Index -1 refers to the last item, -2 refers to the second last item, and so on."
   ]
  },
  {
   "cell_type": "code",
   "execution_count": 8,
   "id": "badbe87b",
   "metadata": {},
   "outputs": [
    {
     "data": {
      "text/plain": [
       "'Audi'"
      ]
     },
     "execution_count": 8,
     "metadata": {},
     "output_type": "execute_result"
    }
   ],
   "source": [
    "cars[-3]"
   ]
  },
  {
   "cell_type": "markdown",
   "id": "eadff5cc",
   "metadata": {},
   "source": [
    "### 2.3. Accessing tuple items through slicing."
   ]
  },
  {
   "cell_type": "code",
   "execution_count": 10,
   "id": "e362d345",
   "metadata": {},
   "outputs": [
    {
     "data": {
      "text/plain": [
       "('BMW', 'Mercedes')"
      ]
     },
     "execution_count": 10,
     "metadata": {},
     "output_type": "execute_result"
    }
   ],
   "source": [
    "cars[1:3]"
   ]
  },
  {
   "cell_type": "code",
   "execution_count": 11,
   "id": "7a812f2f",
   "metadata": {},
   "outputs": [
    {
     "data": {
      "text/plain": [
       "('Audi', 'BMW', 'Mercedes')"
      ]
     },
     "execution_count": 11,
     "metadata": {},
     "output_type": "execute_result"
    }
   ],
   "source": [
    "cars[:]"
   ]
  },
  {
   "cell_type": "markdown",
   "id": "a38412e6",
   "metadata": {},
   "source": [
    "### **3. Updating a tuple:**"
   ]
  },
  {
   "cell_type": "markdown",
   "id": "7330c4fb",
   "metadata": {},
   "source": [
    "### 3.1. Adding items to a tuple:\n",
    "- Not possible to directly add items to a tuple as tuples are immutabe."
   ]
  },
  {
   "cell_type": "code",
   "execution_count": 15,
   "id": "bd3c3aec",
   "metadata": {},
   "outputs": [
    {
     "data": {
      "text/plain": [
       "('Audi', 'Mercedes', 'Bentley', 'BMW', 'Toyota')"
      ]
     },
     "execution_count": 15,
     "metadata": {},
     "output_type": "execute_result"
    }
   ],
   "source": [
    "cars = (\"Audi\",\"Mercedes\",\"Bentley\",\"BMW\")\n",
    "temp = list(cars)\n",
    "temp.append('Toyota')\n",
    "temp\n",
    "cars = tuple(temp)\n",
    "cars"
   ]
  },
  {
   "cell_type": "markdown",
   "id": "2440ea02",
   "metadata": {},
   "source": [
    "### 3.2. Updating items of a tuple:\n",
    "- Not possible to directly update items of a tuple as tuples are immutable."
   ]
  },
  {
   "cell_type": "code",
   "execution_count": 18,
   "id": "1118ae60",
   "metadata": {},
   "outputs": [
    {
     "data": {
      "text/plain": [
       "('Audi', 'Civic', 'Bentley', 'BMW')"
      ]
     },
     "execution_count": 18,
     "metadata": {},
     "output_type": "execute_result"
    }
   ],
   "source": [
    "cars = (\"Audi\",\"Mercedes\",\"Bentley\",\"BMW\")\n",
    "temp = list(cars)\n",
    "temp[1] = 'Civic'\n",
    "temp\n",
    "cars = tuple(temp)\n",
    "cars"
   ]
  },
  {
   "cell_type": "markdown",
   "id": "b568e122",
   "metadata": {},
   "source": [
    "### 3.3. Removing items of a tuple:\n",
    "- Not possible to directly remove items of a tuple as tuples are immutable."
   ]
  },
  {
   "cell_type": "code",
   "execution_count": 20,
   "id": "afe8c8ce",
   "metadata": {},
   "outputs": [
    {
     "data": {
      "text/plain": [
       "('Mercedes', 'Bentley', 'BMW')"
      ]
     },
     "execution_count": 20,
     "metadata": {},
     "output_type": "execute_result"
    }
   ],
   "source": [
    "cars = (\"Audi\",\"Mercedes\",\"Bentley\",\"BMW\")\n",
    "temp = list(cars)\n",
    "temp.remove(\"Audi\")\n",
    "temp\n",
    "cars = tuple(temp)\n",
    "cars"
   ]
  },
  {
   "cell_type": "markdown",
   "id": "c4f74d58",
   "metadata": {},
   "source": [
    "- Remove the entire tuple using del keyword."
   ]
  },
  {
   "cell_type": "code",
   "execution_count": 22,
   "id": "cd532d6c",
   "metadata": {},
   "outputs": [
    {
     "ename": "NameError",
     "evalue": "name 'cars' is not defined",
     "output_type": "error",
     "traceback": [
      "\u001b[31m---------------------------------------------------------------------------\u001b[39m",
      "\u001b[31mNameError\u001b[39m                                 Traceback (most recent call last)",
      "\u001b[36mCell\u001b[39m\u001b[36m \u001b[39m\u001b[32mIn[22]\u001b[39m\u001b[32m, line 3\u001b[39m\n\u001b[32m      1\u001b[39m cars = (\u001b[33m\"\u001b[39m\u001b[33mAudi\u001b[39m\u001b[33m\"\u001b[39m,\u001b[33m\"\u001b[39m\u001b[33mMercedes\u001b[39m\u001b[33m\"\u001b[39m,\u001b[33m\"\u001b[39m\u001b[33mBentley\u001b[39m\u001b[33m\"\u001b[39m,\u001b[33m\"\u001b[39m\u001b[33mBMW\u001b[39m\u001b[33m\"\u001b[39m)\n\u001b[32m      2\u001b[39m \u001b[38;5;28;01mdel\u001b[39;00m cars\n\u001b[32m----> \u001b[39m\u001b[32m3\u001b[39m \u001b[43mcars\u001b[49m\n",
      "\u001b[31mNameError\u001b[39m: name 'cars' is not defined"
     ]
    }
   ],
   "source": [
    "cars = (\"Audi\",\"Mercedes\",\"Bentley\",\"BMW\")\n",
    "del cars\n",
    "cars\n",
    "\n"
   ]
  },
  {
   "cell_type": "markdown",
   "id": "e8d8bf50",
   "metadata": {},
   "source": [
    "### **4. Unpacking a tuple in python:**"
   ]
  },
  {
   "cell_type": "markdown",
   "id": "c8b7a217",
   "metadata": {},
   "source": [
    "### Unpacking a tuple:\n",
    "- Packing means assigning values to a tuple.\n",
    "- Unpacking means extracting values of a tuple."
   ]
  },
  {
   "cell_type": "code",
   "execution_count": 26,
   "id": "56704feb",
   "metadata": {},
   "outputs": [
    {
     "data": {
      "text/plain": [
       "'BMW'"
      ]
     },
     "execution_count": 26,
     "metadata": {},
     "output_type": "execute_result"
    }
   ],
   "source": [
    "cars = (\"Audi\",\"Mercedes\",\"Bentley\",\"BMW\")\n",
    "car1, car2, car3, car4 = cars \n",
    "car1\n",
    "car2\n",
    "car3\n",
    "car4"
   ]
  },
  {
   "cell_type": "markdown",
   "id": "17428699",
   "metadata": {},
   "source": [
    "### Use of Asterisk:\n",
    "- Used when the number of variables are less than the values of a tuple."
   ]
  },
  {
   "cell_type": "code",
   "execution_count": 29,
   "id": "8889f701",
   "metadata": {},
   "outputs": [
    {
     "data": {
      "text/plain": [
       "['Bentley', 'BMW', 'Ford']"
      ]
     },
     "execution_count": 29,
     "metadata": {},
     "output_type": "execute_result"
    }
   ],
   "source": [
    "cars = (\"Audi\",\"Mercedes\",\"Bentley\",\"BMW\",\"Ford\")\n",
    "car1,car2,*car3 = cars\n",
    "car3"
   ]
  },
  {
   "cell_type": "markdown",
   "id": "876af036",
   "metadata": {},
   "source": [
    "- If Asterisk(*) is used with a variable other than the last variable, then the values are assigned until the values left matches the variables left."
   ]
  },
  {
   "cell_type": "code",
   "execution_count": 32,
   "id": "52cf2864",
   "metadata": {},
   "outputs": [
    {
     "data": {
      "text/plain": [
       "'Ford'"
      ]
     },
     "execution_count": 32,
     "metadata": {},
     "output_type": "execute_result"
    }
   ],
   "source": [
    "cars = (\"Audi\",\"Mercedes\",\"Bentley\",\"BMW\",\"Ford\")\n",
    "car1,*car2,car3 = cars\n",
    "car2\n",
    "car3"
   ]
  },
  {
   "cell_type": "code",
   "execution_count": null,
   "id": "5b20fecd",
   "metadata": {},
   "outputs": [],
   "source": []
  }
 ],
 "metadata": {
  "kernelspec": {
   "display_name": "Python 3",
   "language": "python",
   "name": "python3"
  },
  "language_info": {
   "codemirror_mode": {
    "name": "ipython",
    "version": 3
   },
   "file_extension": ".py",
   "mimetype": "text/x-python",
   "name": "python",
   "nbconvert_exporter": "python",
   "pygments_lexer": "ipython3",
   "version": "3.12.10"
  }
 },
 "nbformat": 4,
 "nbformat_minor": 5
}
