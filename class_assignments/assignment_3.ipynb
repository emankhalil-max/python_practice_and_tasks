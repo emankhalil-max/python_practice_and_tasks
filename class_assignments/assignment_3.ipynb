{
 "cells": [
  {
   "cell_type": "markdown",
   "id": "8e6edfbd",
   "metadata": {},
   "source": [
    "# **Smart Home Automation System:**"
   ]
  },
  {
   "cell_type": "markdown",
   "id": "9396d316",
   "metadata": {},
   "source": [
    "### *Scenario:*\n",
    "- You are developing a Smart Home Automation System that allows users to control and monitor various home appliances using python data structures like lists, tuples, dictionaries, sets, and functions."
   ]
  },
  {
   "cell_type": "markdown",
   "id": "07ac9119",
   "metadata": {},
   "source": [
    "### **1. Device Management(Lists and Tuples):**"
   ]
  },
  {
   "cell_type": "markdown",
   "id": "f4e6f161",
   "metadata": {},
   "source": [
    "### Task 1.1. Create and manage a list of smart devices."
   ]
  },
  {
   "cell_type": "code",
   "execution_count": null,
   "id": "9ca9978e",
   "metadata": {},
   "outputs": [
    {
     "name": "stdout",
     "output_type": "stream",
     "text": [
      "Device added ['Refrigerator', 'A.C', 'dishwasher', 'oven', 'fan', 'security camera']\n",
      "Device not found!\n",
      "Sorted devices ['A.C', 'Refrigerator', 'dishwasher', 'fan', 'oven', 'security camera']\n"
     ]
    }
   ],
   "source": [
    "# Initial list of the devices\n",
    "smart_home_devices = ['Refrigerator', 'A.C', 'dishwasher', 'oven', 'fan']\n",
    "\n",
    "# Allowing the user to add new device\n",
    "def new_device(device):\n",
    "    smart_home_devices.append(device)\n",
    "    print(\"Device added\", smart_home_devices)\n",
    "\n",
    "new_device('security camera')      \n",
    "\n",
    "# Function to remove a device\n",
    "def remove_device(device):\n",
    "    if device in smart_home_devices:\n",
    "        smart_home_devices.remove(device)\n",
    "        print(\"Device removed\", smart_home_devices)\n",
    "    else:\n",
    "        print(\"Device not found!\")\n",
    "\n",
    "remove_device(\"stove\")   \n",
    "\n",
    "# Function to sort devices aplhabetically\n",
    "def sort_devices():\n",
    "    smart_home_devices.sort()\n",
    "    print(\"Sorted devices\", smart_home_devices)\n",
    "\n",
    "sort_devices()    \n",
    "\n",
    " "
   ]
  },
  {
   "cell_type": "markdown",
   "id": "bc3b6484",
   "metadata": {},
   "source": [
    "### Task 1.2. Store Devices Settings using Tuples:"
   ]
  },
  {
   "cell_type": "code",
   "execution_count": 13,
   "id": "3ad758a6",
   "metadata": {},
   "outputs": [
    {
     "name": "stdout",
     "output_type": "stream",
     "text": [
      "Device: Refrigerator,Status: ON, Power: 2000W\n",
      "Device: A.C,Status: ON, Power: 1500W\n",
      "Device: dishwasher,Status: OFF, Power: 1000W\n",
      "Device: fan,Status: ON, Power: 500W\n",
      "Device: oven,Status: OFF, Power: 1200W\n",
      "Device: security camera,Status: ON, Power: 900W\n"
     ]
    }
   ],
   "source": [
    "# Tuple for each device, containing device name, status, and power consumption\n",
    "device_settings = [\n",
    "    ('Refrigerator','ON','2000'),\n",
    "                    ('A.C','ON','1500'),\n",
    "                    ('dishwasher','OFF','1000'),\n",
    "                    ('fan','ON','500'),\n",
    "                    ('oven','OFF','1200'),\n",
    "                    ('security camera','ON','900')\n",
    "                    ]\n",
    "# Display all device settings\n",
    "def display_device_settings():\n",
    "    for device in device_settings:\n",
    "        print(f\"Device: {device[0]},Status: {device[1]}, Power: {device[2]}W\")\n",
    "\n",
    "display_device_settings()        "
   ]
  },
  {
   "cell_type": "markdown",
   "id": "96654d9d",
   "metadata": {},
   "source": [
    "### **2. Energy Consumption Tracker(Dictionaries & Sets):**"
   ]
  },
  {
   "cell_type": "markdown",
   "id": "c2d17b9b",
   "metadata": {},
   "source": [
    "### Task 2.1. Store Device Energy Usage in a Dictionary:"
   ]
  },
  {
   "cell_type": "code",
   "execution_count": 9,
   "id": "ec7e34c3",
   "metadata": {},
   "outputs": [
    {
     "name": "stdout",
     "output_type": "stream",
     "text": [
      "Added 'toaster': '1200' to the dictionary.\n",
      "{'Refrigerator': 2000, 'A.C': 1500, 'dishwasher': 1000, 'fan': 500, 'oven': 1200, 'security camera': 900, 'toaster': 1200}\n",
      "Not found!\n",
      "Total Energy Consumption: 8300 KWh\n"
     ]
    },
    {
     "data": {
      "text/plain": [
       "8300"
      ]
     },
     "execution_count": 9,
     "metadata": {},
     "output_type": "execute_result"
    }
   ],
   "source": [
    "# Initializing a dictionary\n",
    "device_energy_usage = {\n",
    "                       'Refrigerator': 2000 , \n",
    "                       'A.C': 1500,\n",
    "                       'dishwasher': 1000,\n",
    "                       'fan': 500,\n",
    "                       'oven': 1200,\n",
    "                       'security camera': 900\n",
    "                       }\n",
    "\n",
    "\n",
    "\n",
    "# Function to add new energy usage data\n",
    "def new_storage_data(device_name,energy_usage):\n",
    "    device_energy_usage[device_name] = energy_usage\n",
    "    print(f\"Added '{device_name}': '{energy_usage}' to the dictionary.\")\n",
    "\n",
    "new_storage_data('toaster', 1200)    \n",
    "print(device_energy_usage)\n",
    "\n",
    "\n",
    "\n",
    "\n",
    "\n",
    "# Function to remove a device' energy usage\n",
    "def remove_energy_usage(energy_usage):\n",
    "    if energy_usage in device_energy_usage:\n",
    "         device_energy_usage.pop(energy_usage)\n",
    "         print(f\"Removed {energy_usage} from the {device_energy_usage}.\")\n",
    "    else:\n",
    "        print(\"Not found!\")\n",
    "\n",
    "remove_energy_usage('2000 W')\n",
    "\n",
    "\n",
    "\n",
    "\n",
    "# Function to display total enegy consumption\n",
    "def display_total_energy_consumption(total_dict):\n",
    "    total = sum(device_energy_usage.values())\n",
    "    print(f\"Total Energy Consumption: {total} KWh\")\n",
    "    return total\n",
    "display_total_energy_consumption(device_energy_usage)\n",
    "\n",
    "\n"
   ]
  },
  {
   "cell_type": "markdown",
   "id": "3a5b0b66",
   "metadata": {},
   "source": [
    "### Task 2.2. Identify Unique Power_Saving Modes Using Sets:"
   ]
  },
  {
   "cell_type": "code",
   "execution_count": 14,
   "id": "e4bc736b",
   "metadata": {},
   "outputs": [
    {
     "name": "stdout",
     "output_type": "stream",
     "text": [
      "New Mode Added: 'Away Mode'\n",
      "'Night Mode' is available!\n",
      "Power Saving Modes: {'Eco Mode', 'Night Mode', 'Away Mode'}\n"
     ]
    }
   ],
   "source": [
    "# Initializing set for unique power_saving modes\n",
    "power_saving_modes = {'Eco Mode','Night Mode'}\n",
    "\n",
    "\n",
    "\n",
    "# Function to add a new power_saving mode\n",
    "def add_power_saving_mode(mode_set,new_mode):\n",
    "    mode_set.add(new_mode)\n",
    "    print(f\"New Mode Added: '{new_mode}'\")\n",
    "    return(new_mode)\n",
    "\n",
    "add_power_saving_mode(power_saving_modes, 'Away Mode')\n",
    "\n",
    "\n",
    "\n",
    "# Function to check if a mode is available\n",
    "def check_existing_mode(mode_set,check_mode):\n",
    "    if check_mode in mode_set:\n",
    "        print(f\"'{check_mode}' is available!\")\n",
    "    else:\n",
    "        print(f\"'{check_mode}' is not available!\")\n",
    "\n",
    "check_existing_mode(power_saving_modes,'Night Mode')   \n",
    "\n",
    "\n",
    "\n",
    "# Function to check all power_saving modes\n",
    "def view_power_saving_modes(mode_set):\n",
    "    print(\"Power Saving Modes:\",mode_set)\n",
    "\n",
    "view_power_saving_modes(power_saving_modes)\n"
   ]
  },
  {
   "cell_type": "markdown",
   "id": "448214ef",
   "metadata": {},
   "source": [
    "### **3. Functions fpr Smart Home Automation Task:**"
   ]
  },
  {
   "cell_type": "markdown",
   "id": "d84c3ebb",
   "metadata": {},
   "source": [
    "### 3.1. Create a Function to Calculate Monthly Energy Cost:"
   ]
  },
  {
   "cell_type": "code",
   "execution_count": null,
   "id": "4e614d5e",
   "metadata": {},
   "outputs": [
    {
     "name": "stdout",
     "output_type": "stream",
     "text": [
      "Total Monthly Energy Cost: $19.800000\n"
     ]
    },
    {
     "data": {
      "text/plain": [
       "19.8"
      ]
     },
     "execution_count": 16,
     "metadata": {},
     "output_type": "execute_result"
    }
   ],
   "source": [
    "# Creating a function to calculate monthly energy cost\n",
    "def calculate_energy_cost(device_energy_usage,rate_per_KWh):\n",
    "    cost= device_energy_usage * rate_per_KWh\n",
    "    print(f\"Total Monthly Energy Cost: ${cost:2f}\")\n",
    "    return cost\n",
    "calculate_energy_cost(165,0.12)\n"
   ]
  },
  {
   "cell_type": "markdown",
   "id": "423cb11c",
   "metadata": {},
   "source": [
    "### 3.2. Create a Function to Find Common Devices in Two Homes:"
   ]
  },
  {
   "cell_type": "code",
   "execution_count": 18,
   "id": "3e81ed67",
   "metadata": {},
   "outputs": [
    {
     "name": "stdout",
     "output_type": "stream",
     "text": [
      "Common Devices: set()\n"
     ]
    },
    {
     "data": {
      "text/plain": [
       "set()"
      ]
     },
     "execution_count": 18,
     "metadata": {},
     "output_type": "execute_result"
    }
   ],
   "source": [
    "# Creating a function to find common devices in two homes\n",
    "def find_common_devices(home1_devices,home2_devices):\n",
    "    common=set(home1_devices) & set(home2_devices)\n",
    "    print(f\"Common Devices: {common}\")\n",
    "    return common\n",
    "\n",
    "find_common_devices('A.C','Refrigerator')"
   ]
  },
  {
   "cell_type": "markdown",
   "id": "05176876",
   "metadata": {},
   "source": [
    "### **4. Automation Features(Advanced Functions):**"
   ]
  },
  {
   "cell_type": "markdown",
   "id": "ab5b5a4f",
   "metadata": {},
   "source": [
    "### 4.1. Create an Automation Rule Using Functions:"
   ]
  },
  {
   "cell_type": "code",
   "execution_count": 22,
   "id": "756008f2",
   "metadata": {},
   "outputs": [
    {
     "name": "stdout",
     "output_type": "stream",
     "text": [
      "Automation Rule: A.C will be turned 'ON' at 10:00 P.M\n"
     ]
    },
    {
     "data": {
      "text/plain": [
       "\"Automation Rule: A.C will be turned 'ON' at 10:00 P.M\""
      ]
     },
     "execution_count": 22,
     "metadata": {},
     "output_type": "execute_result"
    }
   ],
   "source": [
    "# Creating an Automation rule using functions\n",
    "def set_automation_rule(device,time,action):\n",
    "    message = f\"Automation Rule: {device} will be turned '{action}' at {time}\"\n",
    "    print(message)\n",
    "    return message\n",
    "\n",
    "set_automation_rule('A.C','10:00 P.M','ON')"
   ]
  },
  {
   "cell_type": "markdown",
   "id": "4a3ce706",
   "metadata": {},
   "source": [
    "### 4.2. Function to Optimize Power Consumption:"
   ]
  },
  {
   "cell_type": "code",
   "execution_count": 23,
   "id": "1b6e1a2c",
   "metadata": {},
   "outputs": [
    {
     "data": {
      "text/plain": [
       "['Lights', 'Toaster', 'Dryer']"
      ]
     },
     "execution_count": 23,
     "metadata": {},
     "output_type": "execute_result"
    }
   ],
   "source": [
    "# Initializing a list of devices\n",
    "devices = [(\"Lights\",100),(\"A.C\",1500),(\"Refrigerator\",1200),(\"Toaster\",400),(\"Dryer\",300)]\n",
    "\n",
    "# devising a function to optimize power\n",
    "def optimize_power(devices):\n",
    "    active_devices = [device for device, power in devices if power <=1000]\n",
    "    return active_devices\n",
    "\n",
    "optimize_power(devices)"
   ]
  },
  {
   "cell_type": "code",
   "execution_count": null,
   "id": "0b8f8420",
   "metadata": {},
   "outputs": [],
   "source": []
  }
 ],
 "metadata": {
  "kernelspec": {
   "display_name": "Python 3",
   "language": "python",
   "name": "python3"
  },
  "language_info": {
   "codemirror_mode": {
    "name": "ipython",
    "version": 3
   },
   "file_extension": ".py",
   "mimetype": "text/x-python",
   "name": "python",
   "nbconvert_exporter": "python",
   "pygments_lexer": "ipython3",
   "version": "3.12.10"
  }
 },
 "nbformat": 4,
 "nbformat_minor": 5
}
