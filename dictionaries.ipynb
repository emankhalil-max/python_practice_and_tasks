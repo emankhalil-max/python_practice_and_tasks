{
 "cells": [
  {
   "cell_type": "markdown",
   "id": "bad33418",
   "metadata": {},
   "source": [
    "# **Dictionaries in Python:**"
   ]
  },
  {
   "cell_type": "markdown",
   "id": "a7422cc2",
   "metadata": {},
   "source": [
    "### **1. Introduction to Dictionaries:**"
   ]
  },
  {
   "cell_type": "markdown",
   "id": "c7e8cc89",
   "metadata": {},
   "source": [
    "### 1.1. Introduction:\n",
    "- A collection of key_value pairs."
   ]
  },
  {
   "cell_type": "code",
   "execution_count": 1,
   "id": "7f004a64",
   "metadata": {},
   "outputs": [
    {
     "data": {
      "text/plain": [
       "{'brand': 'Audi', 'model': 'q7'}"
      ]
     },
     "execution_count": 1,
     "metadata": {},
     "output_type": "execute_result"
    }
   ],
   "source": [
    "cars = {'brand': 'Audi', 'model': 'q7'}\n",
    "cars"
   ]
  },
  {
   "cell_type": "markdown",
   "id": "4a57fd6b",
   "metadata": {},
   "source": [
    "- Cannot have two items with same key."
   ]
  },
  {
   "cell_type": "code",
   "execution_count": 2,
   "id": "c72f5720",
   "metadata": {},
   "outputs": [
    {
     "data": {
      "text/plain": [
       "{'brand': 'Audi', 'model': 'q8'}"
      ]
     },
     "execution_count": 2,
     "metadata": {},
     "output_type": "execute_result"
    }
   ],
   "source": [
    "cars = {'brand': 'Audi', 'model': 'q7', 'model': 'q8'}\n",
    "cars"
   ]
  },
  {
   "cell_type": "markdown",
   "id": "07af06d1",
   "metadata": {},
   "source": [
    "- Dictionaries are mutable."
   ]
  },
  {
   "cell_type": "code",
   "execution_count": 3,
   "id": "cf4ba6f0",
   "metadata": {},
   "outputs": [
    {
     "data": {
      "text/plain": [
       "{'brand': 'Audi', 'model': 'q8'}"
      ]
     },
     "execution_count": 3,
     "metadata": {},
     "output_type": "execute_result"
    }
   ],
   "source": [
    "cars = {'brand': 'Audi', 'model': 'q7'}\n",
    "cars['model'] = 'q8'\n",
    "cars"
   ]
  },
  {
   "cell_type": "markdown",
   "id": "e9076756",
   "metadata": {},
   "source": [
    "### 1.2. Length of a Dictionary:\n",
    "- Can be determined using the len() function.\n",
    "- Gives the count of key-value pairs of a dictionary."
   ]
  },
  {
   "cell_type": "code",
   "execution_count": 4,
   "id": "42f11ded",
   "metadata": {},
   "outputs": [
    {
     "data": {
      "text/plain": [
       "2"
      ]
     },
     "execution_count": 4,
     "metadata": {},
     "output_type": "execute_result"
    }
   ],
   "source": [
    "cars = {'brand': 'Audi', 'model': 'q7'}\n",
    "len(cars)"
   ]
  },
  {
   "cell_type": "markdown",
   "id": "807d4063",
   "metadata": {},
   "source": [
    "### 1.3. The dict() Constructor:\n",
    "- Alternative way to create a dictionary."
   ]
  },
  {
   "cell_type": "code",
   "execution_count": 5,
   "id": "823d699a",
   "metadata": {},
   "outputs": [
    {
     "data": {
      "text/plain": [
       "{'brand': 'Audi', 'model': 'q7'}"
      ]
     },
     "execution_count": 5,
     "metadata": {},
     "output_type": "execute_result"
    }
   ],
   "source": [
    "cars = dict(brand=\"Audi\", model=\"q7\")\n",
    "cars"
   ]
  },
  {
   "cell_type": "markdown",
   "id": "88445487",
   "metadata": {},
   "source": [
    "### **2. Accessing dictionary items:**"
   ]
  },
  {
   "cell_type": "markdown",
   "id": "3e1bbcfc",
   "metadata": {},
   "source": [
    "### 2.1. Accessing values using key names."
   ]
  },
  {
   "cell_type": "code",
   "execution_count": 6,
   "id": "18cfa84f",
   "metadata": {},
   "outputs": [
    {
     "data": {
      "text/plain": [
       "'Audi'"
      ]
     },
     "execution_count": 6,
     "metadata": {},
     "output_type": "execute_result"
    }
   ],
   "source": [
    "cars = {'brand': 'Audi', 'model': 'q7'}\n",
    "cars['brand']"
   ]
  },
  {
   "cell_type": "markdown",
   "id": "6837517e",
   "metadata": {},
   "source": [
    "### 2.2. Accessing values using get() Method."
   ]
  },
  {
   "cell_type": "code",
   "execution_count": 7,
   "id": "21a4bae9",
   "metadata": {},
   "outputs": [
    {
     "data": {
      "text/plain": [
       "'q7'"
      ]
     },
     "execution_count": 7,
     "metadata": {},
     "output_type": "execute_result"
    }
   ],
   "source": [
    "cars = {'brand': 'Audi', 'model': 'q7'}\n",
    "cars.get('model')"
   ]
  },
  {
   "cell_type": "markdown",
   "id": "a55ddae7",
   "metadata": {},
   "source": [
    "### 2.3. Accessing keys using keys() method.\n",
    "- Returns a view object contining keys as a list.\n",
    "- View object reflects any changes done to the dictionary."
   ]
  },
  {
   "cell_type": "code",
   "execution_count": 9,
   "id": "5e48438d",
   "metadata": {},
   "outputs": [
    {
     "data": {
      "text/plain": [
       "dict_keys(['brand', 'model', 'fuel type'])"
      ]
     },
     "execution_count": 9,
     "metadata": {},
     "output_type": "execute_result"
    }
   ],
   "source": [
    "cars = {'brand': 'Audi', 'model': 'q7'}\n",
    "cars_keys = cars.keys()\n",
    "cars_keys\n",
    "cars['fuel type'] = 'diesel'\n",
    "cars_keys"
   ]
  },
  {
   "cell_type": "markdown",
   "id": "00bb14a7",
   "metadata": {},
   "source": [
    "### 2.4. Accessing values using values() method.\n",
    "- Returns a view object containing values as a list."
   ]
  },
  {
   "cell_type": "code",
   "execution_count": 11,
   "id": "17cc1682",
   "metadata": {},
   "outputs": [
    {
     "data": {
      "text/plain": [
       "dict_values(['Audi', 'q7', 'diesel'])"
      ]
     },
     "execution_count": 11,
     "metadata": {},
     "output_type": "execute_result"
    }
   ],
   "source": [
    "cars = {'brand': 'Audi', 'model': 'q7'}\n",
    "car_values = cars.values()\n",
    "car_values\n",
    "cars['fuel type'] = 'diesel'\n",
    "car_values"
   ]
  },
  {
   "cell_type": "markdown",
   "id": "67a48b13",
   "metadata": {},
   "source": [
    "### 2.5. Accessing items using items() method.\n",
    "- Returns a view object containing items as a list."
   ]
  },
  {
   "cell_type": "code",
   "execution_count": 1,
   "id": "96322bbb",
   "metadata": {},
   "outputs": [
    {
     "data": {
      "text/plain": [
       "{'brand': 'Audi', 'model': 'q7', 'fuel type': 'diesel'}"
      ]
     },
     "execution_count": 1,
     "metadata": {},
     "output_type": "execute_result"
    }
   ],
   "source": [
    "cars = {'brand': 'Audi', 'model': 'q7'}\n",
    "car_items = cars.items()\n",
    "car_items\n",
    "cars['fuel type'] = 'diesel'\n",
    "cars\n"
   ]
  },
  {
   "cell_type": "markdown",
   "id": "2a0a6582",
   "metadata": {},
   "source": [
    "### **3. Changing and adding dictionary items:**"
   ]
  },
  {
   "cell_type": "markdown",
   "id": "b9c38d81",
   "metadata": {},
   "source": [
    "### 3.1. Changing values using key method:"
   ]
  },
  {
   "cell_type": "code",
   "execution_count": 2,
   "id": "181fee51",
   "metadata": {},
   "outputs": [
    {
     "data": {
      "text/plain": [
       "{'brand': 'BMW', 'model': 'q7'}"
      ]
     },
     "execution_count": 2,
     "metadata": {},
     "output_type": "execute_result"
    }
   ],
   "source": [
    "cars = {'brand': 'Audi', 'model': 'q7'}\n",
    "cars['brand'] = 'BMW'\n",
    "cars"
   ]
  },
  {
   "cell_type": "markdown",
   "id": "05480cca",
   "metadata": {},
   "source": [
    "### 3.2. Changing values using update method:"
   ]
  },
  {
   "cell_type": "code",
   "execution_count": 4,
   "id": "0e87487c",
   "metadata": {},
   "outputs": [
    {
     "data": {
      "text/plain": [
       "{'brand': 'Audi', 'model': 's5'}"
      ]
     },
     "execution_count": 4,
     "metadata": {},
     "output_type": "execute_result"
    }
   ],
   "source": [
    "cars = {'brand': 'Audi', 'model': 'q7'}\n",
    "cars.update({'model':'s5'})\n",
    "cars"
   ]
  },
  {
   "cell_type": "markdown",
   "id": "42e8c91a",
   "metadata": {},
   "source": [
    "### 3.3. Adding new items using key names:"
   ]
  },
  {
   "cell_type": "code",
   "execution_count": 5,
   "id": "6149345a",
   "metadata": {},
   "outputs": [
    {
     "data": {
      "text/plain": [
       "{'brand': 'Audi', 'model': 'q7', 'year': '2018'}"
      ]
     },
     "execution_count": 5,
     "metadata": {},
     "output_type": "execute_result"
    }
   ],
   "source": [
    "cars = {'brand': 'Audi', 'model': 'q7'}\n",
    "cars['year'] = '2018'\n",
    "cars"
   ]
  },
  {
   "cell_type": "markdown",
   "id": "3ee4c583",
   "metadata": {},
   "source": [
    "### 3.4. Adding new items using update method:"
   ]
  },
  {
   "cell_type": "code",
   "execution_count": 6,
   "id": "e8888d30",
   "metadata": {},
   "outputs": [
    {
     "data": {
      "text/plain": [
       "{'brand': 'Audi', 'model': 'q7', 'color': 'black'}"
      ]
     },
     "execution_count": 6,
     "metadata": {},
     "output_type": "execute_result"
    }
   ],
   "source": [
    "cars = {'brand': 'Audi', 'model': 'q7'}\n",
    "cars.update({'color':'black'})\n",
    "cars"
   ]
  },
  {
   "cell_type": "markdown",
   "id": "31ea71dd",
   "metadata": {},
   "source": [
    "### **4. Removing Dictionary items:**"
   ]
  },
  {
   "cell_type": "markdown",
   "id": "63408e4b",
   "metadata": {},
   "source": [
    "### 4.1. Removing an item using pop( ) method:"
   ]
  },
  {
   "cell_type": "code",
   "execution_count": 7,
   "id": "696bfaae",
   "metadata": {},
   "outputs": [
    {
     "data": {
      "text/plain": [
       "{'brand': 'Audi'}"
      ]
     },
     "execution_count": 7,
     "metadata": {},
     "output_type": "execute_result"
    }
   ],
   "source": [
    "cars = {'brand': 'Audi', 'model': 'q7'}\n",
    "cars.pop('model')\n",
    "cars"
   ]
  },
  {
   "cell_type": "markdown",
   "id": "05853bbd",
   "metadata": {},
   "source": [
    "### 4.2. Removing an item using popitem( ) method:"
   ]
  },
  {
   "cell_type": "code",
   "execution_count": 9,
   "id": "67d322ec",
   "metadata": {},
   "outputs": [
    {
     "data": {
      "text/plain": [
       "{'brand': 'Audi'}"
      ]
     },
     "execution_count": 9,
     "metadata": {},
     "output_type": "execute_result"
    }
   ],
   "source": [
    "cars = {'brand': 'Audi', 'model': 'q7'}\n",
    "cars.popitem()\n",
    "cars"
   ]
  },
  {
   "cell_type": "markdown",
   "id": "9ba1c643",
   "metadata": {},
   "source": [
    "### 4.3. Removing an item using del keyword:"
   ]
  },
  {
   "cell_type": "code",
   "execution_count": 11,
   "id": "5fdda85e",
   "metadata": {},
   "outputs": [
    {
     "data": {
      "text/plain": [
       "{'model': 'q7'}"
      ]
     },
     "execution_count": 11,
     "metadata": {},
     "output_type": "execute_result"
    }
   ],
   "source": [
    "cars = {'brand': 'Audi', 'model': 'q7'}\n",
    "del cars['brand']\n",
    "cars"
   ]
  },
  {
   "cell_type": "markdown",
   "id": "b2dd618f",
   "metadata": {},
   "source": [
    "### 4.4. Removing a dictionary using del keyword:"
   ]
  },
  {
   "cell_type": "code",
   "execution_count": 13,
   "id": "91a30376",
   "metadata": {},
   "outputs": [
    {
     "ename": "NameError",
     "evalue": "name 'cars' is not defined",
     "output_type": "error",
     "traceback": [
      "\u001b[31m---------------------------------------------------------------------------\u001b[39m",
      "\u001b[31mNameError\u001b[39m                                 Traceback (most recent call last)",
      "\u001b[36mCell\u001b[39m\u001b[36m \u001b[39m\u001b[32mIn[13]\u001b[39m\u001b[32m, line 3\u001b[39m\n\u001b[32m      1\u001b[39m cars = {\u001b[33m'\u001b[39m\u001b[33mbrand\u001b[39m\u001b[33m'\u001b[39m: \u001b[33m'\u001b[39m\u001b[33mAudi\u001b[39m\u001b[33m'\u001b[39m, \u001b[33m'\u001b[39m\u001b[33mmodel\u001b[39m\u001b[33m'\u001b[39m: \u001b[33m'\u001b[39m\u001b[33mq7\u001b[39m\u001b[33m'\u001b[39m}\n\u001b[32m      2\u001b[39m \u001b[38;5;28;01mdel\u001b[39;00m cars\n\u001b[32m----> \u001b[39m\u001b[32m3\u001b[39m \u001b[43mcars\u001b[49m\n",
      "\u001b[31mNameError\u001b[39m: name 'cars' is not defined"
     ]
    }
   ],
   "source": [
    "cars = {'brand': 'Audi', 'model': 'q7'}\n",
    "del cars\n",
    "cars"
   ]
  },
  {
   "cell_type": "markdown",
   "id": "e3d9ae9c",
   "metadata": {},
   "source": [
    "### 4.5. Empty a dictionary using clear( ) method:"
   ]
  },
  {
   "cell_type": "code",
   "execution_count": 15,
   "id": "54594842",
   "metadata": {},
   "outputs": [
    {
     "data": {
      "text/plain": [
       "{}"
      ]
     },
     "execution_count": 15,
     "metadata": {},
     "output_type": "execute_result"
    }
   ],
   "source": [
    "cars = {'brand': 'Audi', 'model': 'q7'}\n",
    "cars.clear()\n",
    "cars"
   ]
  },
  {
   "cell_type": "markdown",
   "id": "71b0d906",
   "metadata": {},
   "source": [
    "### **5. Copying a dictionary:**"
   ]
  },
  {
   "cell_type": "markdown",
   "id": "1486be31",
   "metadata": {},
   "source": [
    "### 5.1. Introduction:\n",
    "- The assignment operator can be used to copy immutable objects."
   ]
  },
  {
   "cell_type": "code",
   "execution_count": null,
   "id": "5db7233c",
   "metadata": {},
   "outputs": [],
   "source": [
    "x = 10\n",
    "y = x\n",
    "y = 20"
   ]
  },
  {
   "cell_type": "code",
   "execution_count": null,
   "id": "15a81cbc",
   "metadata": {},
   "outputs": [],
   "source": [
    "cars = {'brand': 'Audi', 'model': 'q7'}\n",
    "car_copy = cars\n",
    "car_copy['model'] = 'q8'\n",
    "car_copy"
   ]
  },
  {
   "cell_type": "markdown",
   "id": "e174e4c6",
   "metadata": {},
   "source": [
    "### 5.2. Copying a dictionary using copy( ) method: "
   ]
  },
  {
   "cell_type": "code",
   "execution_count": 5,
   "id": "045ffe7f",
   "metadata": {},
   "outputs": [
    {
     "data": {
      "text/plain": [
       "{'brand': 'Audi', 'model': 'q7'}"
      ]
     },
     "execution_count": 5,
     "metadata": {},
     "output_type": "execute_result"
    }
   ],
   "source": [
    "cars = {'brand': 'Audi', 'model': 'q7'}\n",
    "car_copy = cars.copy()\n",
    "car_copy\n",
    "car_copy['model'] = 'q8'\n",
    "car_copy\n",
    "cars"
   ]
  },
  {
   "cell_type": "markdown",
   "id": "08c4955b",
   "metadata": {},
   "source": [
    "### 5.3. Copying a dictionary using dict( ) method:"
   ]
  },
  {
   "cell_type": "code",
   "execution_count": 8,
   "id": "89897aad",
   "metadata": {},
   "outputs": [
    {
     "data": {
      "text/plain": [
       "{'brand': 'Audi', 'model': 'q7'}"
      ]
     },
     "execution_count": 8,
     "metadata": {},
     "output_type": "execute_result"
    }
   ],
   "source": [
    "cars = {'brand': 'Audi', 'model': 'q7'}\n",
    "car_copy = dict(cars)\n",
    "car_copy\n",
    "car_copy['model'] = 'q8'\n",
    "car_copy\n",
    "cars"
   ]
  },
  {
   "cell_type": "code",
   "execution_count": null,
   "id": "c87f6a07",
   "metadata": {},
   "outputs": [],
   "source": []
  }
 ],
 "metadata": {
  "kernelspec": {
   "display_name": "Python 3",
   "language": "python",
   "name": "python3"
  },
  "language_info": {
   "codemirror_mode": {
    "name": "ipython",
    "version": 3
   },
   "file_extension": ".py",
   "mimetype": "text/x-python",
   "name": "python",
   "nbconvert_exporter": "python",
   "pygments_lexer": "ipython3",
   "version": "3.12.10"
  }
 },
 "nbformat": 4,
 "nbformat_minor": 5
}
